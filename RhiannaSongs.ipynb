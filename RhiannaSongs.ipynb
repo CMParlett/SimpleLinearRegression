{
 "cells": [
  {
   "cell_type": "markdown",
   "metadata": {},
   "source": [
    "First Run the cell below to import all the packages you will need. If an error prints out below, follow printed instructions."
   ]
  },
  {
   "cell_type": "code",
   "execution_count": 1,
   "metadata": {
    "collapsed": false
   },
   "outputs": [],
   "source": [
    "try:\n",
    "    import csv\n",
    "except:\n",
    "    print \"Download csv\"\n",
    "    print \"you can try 'pip install csv'\"\n",
    "try:\n",
    "    import numpy as np\n",
    "except:\n",
    "    print \"Download numpy\"\n",
    "    print \"you can try 'pip install numpy'\"\n",
    "try:\n",
    "    import glob\n",
    "except:\n",
    "    print \"Download glob\"\n",
    "    print \"you can try 'pip install glob'\"\n",
    "try:    \n",
    "    import pandas as pd\n",
    "except:\n",
    "    print \"Download pandas\"\n",
    "    print \"you can try 'pip install pandas'\"\n",
    "    \n",
    "try:\n",
    "    from scipy import stats\n",
    "except:\n",
    "    print \"Download scipy\"\n",
    "    print \"you can try 'pip install scipy'\"\n",
    "    \n",
    "try:\n",
    "    import matplotlib.pyplot as plt\n",
    "    %matplotlib inline  \n",
    "except:\n",
    "    print \"Problem with Matplotlib.pyplot\"\n",
    "    print \"you can try 'pip install matplotlib'\""
   ]
  },
  {
   "cell_type": "markdown",
   "metadata": {},
   "source": [
    "Next, run the cell below to run the linear regression."
   ]
  },
  {
   "cell_type": "code",
   "execution_count": 2,
   "metadata": {
    "collapsed": false
   },
   "outputs": [
    {
     "name": "stdout",
     "output_type": "stream",
     "text": [
      "                name  unique words  year\n",
      "4                pdr           101  2005\n",
      "9               thug           160  2005\n",
      "12        unfaithful           126  2006\n",
      "6             shutup           114  2007\n",
      "11          umbrella           158  2007\n",
      "5            rudeboy            85  2009\n",
      "3   lovethewayyoulie           212  2010\n",
      "7                 sm            82  2010\n",
      "13       whatsmyname           160  2010\n",
      "0               cake            63  2011\n",
      "8               stay            93  2012\n",
      "1            dancing            64  2015\n",
      "10      towardthesun            79  2015\n",
      "2             kissit            73  2016\n",
      "14              work           178  2016\n",
      "---------------------------------------------\n",
      "p-value: 0.314179027473\n",
      "r-squared: 0.0777655073124\n",
      "slope: -3.34766118837\n",
      "intercept: 6846.22503161\n",
      "---------------------------------------------\n"
     ]
    },
    {
     "data": {
      "image/png": "[encoded data removed]",
      "text/plain": [
       "<matplotlib.figure.Figure at 0x1060ea910>"
      ]
     },
     "metadata": {},
     "output_type": "display_data"
    }
   ],
   "source": [
    "rhianna_data = []\n",
    "\n",
    "x = {'umbrella': 2007, 'work': 2016, 'pdr': 2005, 'stay': 2012, 'sm': 2010, 'cake': 2011,\n",
    " 'unfaithful': 2006, 'lovethewayyoulie': 2010, 'dancing': 2015, 'rudeboy': 2009,\n",
    "    'whatsmyname': 2010, 'shutup': 2007, 'thug': 2005, 'towardthesun': 2015, 'kissit':2016, 'dontStop': 2009}\n",
    "\n",
    "songList = glob.glob('*.txt')\n",
    "for song in songList:\n",
    "    unique_items = len(set(w.lower().replace(\",\", \"\").replace(\"(\",\"\").replace(\")\",\"\").replace(\".\", \"\").replace(\"?\", \"\") for w in open(song).read().split()))\n",
    "    name = song.split('.')[0]\n",
    "    rhianna_data.append([name, unique_items, x[name]])\n",
    "    \n",
    "\n",
    "dataFrame = pd.DataFrame(rhianna_data)\n",
    "dataFrame.columns = ['name', 'unique words', 'year']\n",
    "dataFrame = dataFrame.sort_values(by = 'year')\n",
    "print dataFrame\n",
    "\n",
    "x = np.array(dataFrame['year'].tolist())\n",
    "y = np.array(dataFrame['unique words'].tolist())\n",
    "slope, intercept, r_value, p_value, slope_std_error = stats.linregress(x,y)\n",
    "predict_y = intercept + slope * x\n",
    "pred_error = y - predict_y\n",
    "degrees_of_freedom = len(x) - 2\n",
    "residual_std_error = np.sqrt(np.sum(pred_error**2) / degrees_of_freedom)\n",
    "\n",
    "plt.plot(x, y, 'o')\n",
    "plt.plot(x, predict_y, 'k-')\n",
    "plt.xlim((2004,2017))\n",
    "plt.ylim(0, max(y)+10)\n",
    "\n",
    "print \"---------------------------------------------\"\n",
    "print \"p-value: \" + str(p_value)\n",
    "print \"r-squared: \" + str(r_value**2)\n",
    "print \"slope: \" + str(slope)\n",
    "print \"intercept: \" + str(intercept)\n",
    "print \"---------------------------------------------\"\n",
    "\n",
    "plt.show()\n"
   ]
  },
  {
   "cell_type": "markdown",
   "metadata": {},
   "source": [
    "1. In what year will Rhianna be singing 0 words?"
   ]
  },
  {
   "cell_type": "code",
   "execution_count": 5,
   "metadata": {
    "collapsed": false
   },
   "outputs": [],
   "source": [
    "dataFrame.to_csv('BadGalRiRi.csv')"
   ]
  }
 ],
 "metadata": {
  "kernelspec": {
   "display_name": "Python 2",
   "language": "python",
   "name": "python2"
  },
  "language_info": {
   "codemirror_mode": {
    "name": "ipython",
    "version": 2
   },
   "file_extension": ".py",
   "mimetype": "text/x-python",
   "name": "python",
   "nbconvert_exporter": "python",
   "pygments_lexer": "ipython2",
   "version": "2.7.12"
  }
 },
 "nbformat": 4,
 "nbformat_minor": 0
}
